{
 "cells": [
  {
   "cell_type": "code",
   "execution_count": 39,
   "metadata": {},
   "outputs": [],
   "source": [
    "import warnings\n",
    "warnings.filterwarnings(\"ignore\")\n",
    "import os\n",
    "#To disable all logging output from TensorFlow\n",
    "os.environ['TF_CPP_MIN_LOG_LEVEL'] = '3'"
   ]
  },
  {
   "cell_type": "code",
   "execution_count": 54,
   "metadata": {},
   "outputs": [],
   "source": [
    "import pandas as pd\n",
    "import numpy as np\n",
    "from tensorflow.keras.datasets import mnist\n",
    "from matplotlib import pyplot as plt\n",
    "from keras.utils import to_categorical\n",
    "from keras import models\n",
    "from keras import layers\n",
    "import tensorflow as tf\n",
    "from tensorflow import keras\n",
    "from tensorflow.keras import backend as K\n",
    "from tensorflow.keras.models import Sequential"
   ]
  },
  {
   "cell_type": "code",
   "execution_count": 41,
   "metadata": {},
   "outputs": [],
   "source": [
    "(xtrain, ytrain), (xtest, ytest) = mnist.load_data()"
   ]
  },
  {
   "cell_type": "code",
   "execution_count": 42,
   "metadata": {},
   "outputs": [
    {
     "data": {
      "text/plain": [
       "(60000, 784)"
      ]
     },
     "execution_count": 42,
     "metadata": {},
     "output_type": "execute_result"
    }
   ],
   "source": [
    "# flatten the input\n",
    "xtrain_flatten = xtrain.reshape((60000, 28*28))\n",
    "xtrain_flatten.shape"
   ]
  },
  {
   "cell_type": "code",
   "execution_count": 43,
   "metadata": {},
   "outputs": [
    {
     "data": {
      "text/plain": [
       "array([  0,   0,   0,   0,   0,   0,   0,   0,   0,   0,   0,   0,   0,\n",
       "         0,   0,   0,   0,   0,   0,   0,   0,   0,   0,   0,   0,   0,\n",
       "         0,   0,   0,   0,   0,   0,   0,   0,   0,   0,   0,   0,   0,\n",
       "         0,   0,   0,   0,   0,   0,   0,   0,   0,   0,   0,   0,   0,\n",
       "         0,   0,   0,   0,   0,   0,   0,   0,   0,   0,   0,   0,   0,\n",
       "         0,   0,   0,   0,   0,   0,   0,   0,   0,   0,   0,   0,   0,\n",
       "         0,   0,   0,   0,   0,   0,   0,   0,   0,   0,   0,   0,   0,\n",
       "         0,   0,   0,   0,   0,   0,   0,   0,   0,   0,   0,   0,   0,\n",
       "         0,   0,   0,   0,   0,   0,   0,   0,   0,   0,   0,   0,   0,\n",
       "         0,   0,   0,   0,   0,   0,   0,   0,   0,   0,   0,   0,   0,\n",
       "         0,   0,   0,   0,   0,   0,   0,   0,   0,   0,   0,   0,   0,\n",
       "         0,   0,   0,   0,   0,   0,   0,   0,   0,   3,  18,  18,  18,\n",
       "       126, 136, 175,  26, 166, 255, 247, 127,   0,   0,   0,   0,   0,\n",
       "         0,   0,   0,   0,   0,   0,   0,  30,  36,  94, 154, 170, 253,\n",
       "       253, 253, 253, 253, 225, 172, 253, 242, 195,  64,   0,   0,   0,\n",
       "         0,   0,   0,   0,   0,   0,   0,   0,  49, 238, 253, 253, 253,\n",
       "       253, 253, 253, 253, 253, 251,  93,  82,  82,  56,  39,   0,   0,\n",
       "         0,   0,   0,   0,   0,   0,   0,   0,   0,   0,  18, 219, 253,\n",
       "       253, 253, 253, 253, 198, 182, 247, 241,   0,   0,   0,   0,   0,\n",
       "         0,   0,   0,   0,   0,   0,   0,   0,   0,   0,   0,   0,   0,\n",
       "        80, 156, 107, 253, 253, 205,  11,   0,  43, 154,   0,   0,   0,\n",
       "         0,   0,   0,   0,   0,   0,   0,   0,   0,   0,   0,   0,   0,\n",
       "         0,   0,   0,  14,   1, 154, 253,  90,   0,   0,   0,   0,   0,\n",
       "         0,   0,   0,   0,   0,   0,   0,   0,   0,   0,   0,   0,   0,\n",
       "         0,   0,   0,   0,   0,   0,   0, 139, 253, 190,   2,   0,   0,\n",
       "         0,   0,   0,   0,   0,   0,   0,   0,   0,   0,   0,   0,   0,\n",
       "         0,   0,   0,   0,   0,   0,   0,   0,   0,  11, 190, 253,  70,\n",
       "         0,   0,   0,   0,   0,   0,   0,   0,   0,   0,   0,   0,   0,\n",
       "         0,   0,   0,   0,   0,   0,   0,   0,   0,   0,   0,   0,  35,\n",
       "       241, 225, 160, 108,   1,   0,   0,   0,   0,   0,   0,   0,   0,\n",
       "         0,   0,   0,   0,   0,   0,   0,   0,   0,   0,   0,   0,   0,\n",
       "         0,   0,  81, 240, 253, 253, 119,  25,   0,   0,   0,   0,   0,\n",
       "         0,   0,   0,   0,   0,   0,   0,   0,   0,   0,   0,   0,   0,\n",
       "         0,   0,   0,   0,   0,  45, 186, 253, 253, 150,  27,   0,   0,\n",
       "         0,   0,   0,   0,   0,   0,   0,   0,   0,   0,   0,   0,   0,\n",
       "         0,   0,   0,   0,   0,   0,   0,   0,  16,  93, 252, 253, 187,\n",
       "         0,   0,   0,   0,   0,   0,   0,   0,   0,   0,   0,   0,   0,\n",
       "         0,   0,   0,   0,   0,   0,   0,   0,   0,   0,   0,   0, 249,\n",
       "       253, 249,  64,   0,   0,   0,   0,   0,   0,   0,   0,   0,   0,\n",
       "         0,   0,   0,   0,   0,   0,   0,   0,   0,   0,   0,  46, 130,\n",
       "       183, 253, 253, 207,   2,   0,   0,   0,   0,   0,   0,   0,   0,\n",
       "         0,   0,   0,   0,   0,   0,   0,   0,   0,   0,   0,  39, 148,\n",
       "       229, 253, 253, 253, 250, 182,   0,   0,   0,   0,   0,   0,   0,\n",
       "         0,   0,   0,   0,   0,   0,   0,   0,   0,   0,   0,  24, 114,\n",
       "       221, 253, 253, 253, 253, 201,  78,   0,   0,   0,   0,   0,   0,\n",
       "         0,   0,   0,   0,   0,   0,   0,   0,   0,   0,   0,  23,  66,\n",
       "       213, 253, 253, 253, 253, 198,  81,   2,   0,   0,   0,   0,   0,\n",
       "         0,   0,   0,   0,   0,   0,   0,   0,   0,   0,   0,  18, 171,\n",
       "       219, 253, 253, 253, 253, 195,  80,   9,   0,   0,   0,   0,   0,\n",
       "         0,   0,   0,   0,   0,   0,   0,   0,   0,   0,   0,  55, 172,\n",
       "       226, 253, 253, 253, 253, 244, 133,  11,   0,   0,   0,   0,   0,\n",
       "         0,   0,   0,   0,   0,   0,   0,   0,   0,   0,   0,   0,   0,\n",
       "       136, 253, 253, 253, 212, 135, 132,  16,   0,   0,   0,   0,   0,\n",
       "         0,   0,   0,   0,   0,   0,   0,   0,   0,   0,   0,   0,   0,\n",
       "         0,   0,   0,   0,   0,   0,   0,   0,   0,   0,   0,   0,   0,\n",
       "         0,   0,   0,   0,   0,   0,   0,   0,   0,   0,   0,   0,   0,\n",
       "         0,   0,   0,   0,   0,   0,   0,   0,   0,   0,   0,   0,   0,\n",
       "         0,   0,   0,   0,   0,   0,   0,   0,   0,   0,   0,   0,   0,\n",
       "         0,   0,   0,   0,   0,   0,   0,   0,   0,   0,   0,   0,   0,\n",
       "         0,   0,   0,   0,   0,   0,   0,   0,   0,   0,   0,   0,   0,\n",
       "         0,   0,   0,   0], dtype=uint8)"
      ]
     },
     "execution_count": 43,
     "metadata": {},
     "output_type": "execute_result"
    }
   ],
   "source": [
    "xtrain_flatten[0]"
   ]
  },
  {
   "cell_type": "code",
   "execution_count": 44,
   "metadata": {},
   "outputs": [
    {
     "data": {
      "text/plain": [
       "(60000, 10)"
      ]
     },
     "execution_count": 44,
     "metadata": {},
     "output_type": "execute_result"
    }
   ],
   "source": [
    "# convert output to one hot encoded matrix -> multi-class classification\n",
    "ytrain_categorical = tf.keras.utils.to_categorical(ytrain)\n",
    "ytrain_categorical.shape"
   ]
  },
  {
   "cell_type": "code",
   "execution_count": 45,
   "metadata": {},
   "outputs": [],
   "source": [
    "def model_ann():\n",
    "    '''\n",
    "    creates a ANN model by stacking dense layers \n",
    "    '''\n",
    "    # initialize the Sequential API to stack the layers\n",
    "    model = keras.Sequential()\n",
    "    \n",
    "    # first hidden layer\n",
    "    model.add(\n",
    "        keras.layers.Dense(\n",
    "            units=25, \n",
    "            activation='relu',\n",
    "            input_shape=(28*28, )\n",
    "        )\n",
    "    )\n",
    "    #second hidden layer\n",
    "    model.add(\n",
    "        keras.layers.Dense(\n",
    "            units=25,\n",
    "            activation='relu'\n",
    "        )\n",
    "    )\n",
    "    # dropout: randomly set 20% of the previous output to zero\n",
    "    model.add(\n",
    "        keras.layers.Dropout(\n",
    "            rate=0.2\n",
    "        )\n",
    "    )\n",
    "    # output layer with softmax activation function\n",
    "    model.add(\n",
    "        keras.layers.Dense(\n",
    "            units=10,\n",
    "            activation='softmax'\n",
    "        )\n",
    "    )\n",
    "    # compile model\n",
    "    model.compile(\n",
    "        optimizer=keras.optimizers.Adam(),\n",
    "        loss=keras.losses.categorical_crossentropy,\n",
    "        metrics=[keras.metrics.categorical_accuracy]\n",
    "    )\n",
    "\n",
    "    return model"
   ]
  },
  {
   "cell_type": "code",
   "execution_count": 46,
   "metadata": {},
   "outputs": [],
   "source": [
    "K.clear_session()\n",
    "model = model_ann()"
   ]
  },
  {
   "cell_type": "code",
   "execution_count": 47,
   "metadata": {},
   "outputs": [
    {
     "name": "stdout",
     "output_type": "stream",
     "text": [
      "Model: \"sequential\"\n",
      "_________________________________________________________________\n",
      " Layer (type)                Output Shape              Param #   \n",
      "=================================================================\n",
      " dense (Dense)               (None, 25)                19625     \n",
      "                                                                 \n",
      " dense_1 (Dense)             (None, 25)                650       \n",
      "                                                                 \n",
      " dropout (Dropout)           (None, 25)                0         \n",
      "                                                                 \n",
      " dense_2 (Dense)             (None, 10)                260       \n",
      "                                                                 \n",
      "=================================================================\n",
      "Total params: 20,535\n",
      "Trainable params: 20,535\n",
      "Non-trainable params: 0\n",
      "_________________________________________________________________\n"
     ]
    }
   ],
   "source": [
    "model.summary()"
   ]
  },
  {
   "attachments": {},
   "cell_type": "markdown",
   "metadata": {},
   "source": [
    "**Fit Model**"
   ]
  },
  {
   "cell_type": "code",
   "execution_count": 48,
   "metadata": {},
   "outputs": [],
   "source": [
    "# early stopping\n",
    "stop_early = keras.callbacks.EarlyStopping(\n",
    "    monitor='val_loss', \n",
    "    patience=5\n",
    ")"
   ]
  },
  {
   "cell_type": "code",
   "execution_count": 49,
   "metadata": {},
   "outputs": [
    {
     "name": "stdout",
     "output_type": "stream",
     "text": [
      "Epoch 1/100\n",
      "96/96 [==============================] - 3s 15ms/step - loss: 9.5893 - categorical_accuracy: 0.2451 - val_loss: 2.0358 - val_categorical_accuracy: 0.2477\n",
      "Epoch 2/100\n",
      "96/96 [==============================] - 1s 7ms/step - loss: 2.0441 - categorical_accuracy: 0.2549 - val_loss: 1.8813 - val_categorical_accuracy: 0.3001\n",
      "Epoch 3/100\n",
      "96/96 [==============================] - 1s 7ms/step - loss: 1.9013 - categorical_accuracy: 0.3113 - val_loss: 1.7382 - val_categorical_accuracy: 0.3667\n",
      "Epoch 4/100\n",
      "96/96 [==============================] - 1s 7ms/step - loss: 1.7668 - categorical_accuracy: 0.3663 - val_loss: 1.6660 - val_categorical_accuracy: 0.4083\n",
      "Epoch 5/100\n",
      "96/96 [==============================] - 1s 7ms/step - loss: 1.6452 - categorical_accuracy: 0.4225 - val_loss: 1.5112 - val_categorical_accuracy: 0.4753\n",
      "Epoch 6/100\n",
      "96/96 [==============================] - 1s 10ms/step - loss: 1.5027 - categorical_accuracy: 0.4728 - val_loss: 1.4155 - val_categorical_accuracy: 0.5053\n",
      "Epoch 7/100\n",
      "96/96 [==============================] - 1s 7ms/step - loss: 1.3919 - categorical_accuracy: 0.5054 - val_loss: 1.3626 - val_categorical_accuracy: 0.5355\n",
      "Epoch 8/100\n",
      "96/96 [==============================] - 1s 8ms/step - loss: 1.3196 - categorical_accuracy: 0.5238 - val_loss: 1.3116 - val_categorical_accuracy: 0.5342\n",
      "Epoch 9/100\n",
      "96/96 [==============================] - 1s 7ms/step - loss: 1.2774 - categorical_accuracy: 0.5293 - val_loss: 1.2831 - val_categorical_accuracy: 0.5465\n",
      "Epoch 10/100\n",
      "96/96 [==============================] - 1s 7ms/step - loss: 1.2372 - categorical_accuracy: 0.5420 - val_loss: 1.2454 - val_categorical_accuracy: 0.5531\n",
      "Epoch 11/100\n",
      "96/96 [==============================] - 1s 7ms/step - loss: 1.2004 - categorical_accuracy: 0.5583 - val_loss: 1.1604 - val_categorical_accuracy: 0.6016\n",
      "Epoch 12/100\n",
      "96/96 [==============================] - 1s 10ms/step - loss: 1.1173 - categorical_accuracy: 0.5968 - val_loss: 1.0919 - val_categorical_accuracy: 0.6361\n",
      "Epoch 13/100\n",
      "96/96 [==============================] - 1s 8ms/step - loss: 1.0429 - categorical_accuracy: 0.6174 - val_loss: 1.0402 - val_categorical_accuracy: 0.6388\n",
      "Epoch 14/100\n",
      "96/96 [==============================] - 1s 7ms/step - loss: 1.0055 - categorical_accuracy: 0.6307 - val_loss: 1.0141 - val_categorical_accuracy: 0.6359\n",
      "Epoch 15/100\n",
      "96/96 [==============================] - 1s 7ms/step - loss: 0.9817 - categorical_accuracy: 0.6322 - val_loss: 0.9953 - val_categorical_accuracy: 0.6428\n",
      "Epoch 16/100\n",
      "96/96 [==============================] - 1s 7ms/step - loss: 0.9520 - categorical_accuracy: 0.6345 - val_loss: 0.9666 - val_categorical_accuracy: 0.6467\n",
      "Epoch 17/100\n",
      "96/96 [==============================] - 1s 8ms/step - loss: 0.9391 - categorical_accuracy: 0.6391 - val_loss: 0.9633 - val_categorical_accuracy: 0.6492\n",
      "Epoch 18/100\n",
      "96/96 [==============================] - 1s 10ms/step - loss: 0.9187 - categorical_accuracy: 0.6397 - val_loss: 0.9432 - val_categorical_accuracy: 0.6513\n",
      "Epoch 19/100\n",
      "96/96 [==============================] - 1s 8ms/step - loss: 0.9087 - categorical_accuracy: 0.6432 - val_loss: 0.9347 - val_categorical_accuracy: 0.6618\n",
      "Epoch 20/100\n",
      "96/96 [==============================] - 1s 8ms/step - loss: 0.8953 - categorical_accuracy: 0.6456 - val_loss: 0.9274 - val_categorical_accuracy: 0.6594\n",
      "Epoch 21/100\n",
      "96/96 [==============================] - 1s 8ms/step - loss: 0.8845 - categorical_accuracy: 0.6494 - val_loss: 0.9116 - val_categorical_accuracy: 0.6624\n",
      "Epoch 22/100\n",
      "96/96 [==============================] - 1s 7ms/step - loss: 0.8670 - categorical_accuracy: 0.6522 - val_loss: 0.9004 - val_categorical_accuracy: 0.6636\n",
      "Epoch 23/100\n",
      "96/96 [==============================] - 1s 8ms/step - loss: 0.8565 - categorical_accuracy: 0.6542 - val_loss: 0.8900 - val_categorical_accuracy: 0.6667\n",
      "Epoch 24/100\n",
      "96/96 [==============================] - 1s 10ms/step - loss: 0.8481 - categorical_accuracy: 0.6566 - val_loss: 0.8691 - val_categorical_accuracy: 0.6693\n",
      "Epoch 25/100\n",
      "96/96 [==============================] - 1s 7ms/step - loss: 0.8328 - categorical_accuracy: 0.6625 - val_loss: 0.8483 - val_categorical_accuracy: 0.6830\n",
      "Epoch 26/100\n",
      "96/96 [==============================] - 1s 7ms/step - loss: 0.8091 - categorical_accuracy: 0.6846 - val_loss: 0.7886 - val_categorical_accuracy: 0.7105\n",
      "Epoch 27/100\n",
      "96/96 [==============================] - 1s 8ms/step - loss: 0.7519 - categorical_accuracy: 0.7128 - val_loss: 0.7651 - val_categorical_accuracy: 0.7223\n",
      "Epoch 28/100\n",
      "96/96 [==============================] - 1s 7ms/step - loss: 0.7272 - categorical_accuracy: 0.7211 - val_loss: 0.7436 - val_categorical_accuracy: 0.7303\n",
      "Epoch 29/100\n",
      "96/96 [==============================] - 1s 10ms/step - loss: 0.7107 - categorical_accuracy: 0.7235 - val_loss: 0.7295 - val_categorical_accuracy: 0.7246\n",
      "Epoch 30/100\n",
      "96/96 [==============================] - 1s 8ms/step - loss: 0.6963 - categorical_accuracy: 0.7234 - val_loss: 0.7143 - val_categorical_accuracy: 0.7298\n",
      "Epoch 31/100\n",
      "96/96 [==============================] - 1s 7ms/step - loss: 0.6860 - categorical_accuracy: 0.7253 - val_loss: 0.7145 - val_categorical_accuracy: 0.7304\n",
      "Epoch 32/100\n",
      "96/96 [==============================] - 1s 8ms/step - loss: 0.6730 - categorical_accuracy: 0.7288 - val_loss: 0.6893 - val_categorical_accuracy: 0.7370\n",
      "Epoch 33/100\n",
      "96/96 [==============================] - 1s 8ms/step - loss: 0.6655 - categorical_accuracy: 0.7362 - val_loss: 0.6929 - val_categorical_accuracy: 0.7500\n",
      "Epoch 34/100\n",
      "96/96 [==============================] - 1s 9ms/step - loss: 0.6518 - categorical_accuracy: 0.7482 - val_loss: 0.6709 - val_categorical_accuracy: 0.7629\n",
      "Epoch 35/100\n",
      "96/96 [==============================] - 1s 12ms/step - loss: 0.6387 - categorical_accuracy: 0.7543 - val_loss: 0.6560 - val_categorical_accuracy: 0.7722\n",
      "Epoch 36/100\n",
      "96/96 [==============================] - 1s 9ms/step - loss: 0.6224 - categorical_accuracy: 0.7640 - val_loss: 0.6362 - val_categorical_accuracy: 0.7793\n",
      "Epoch 37/100\n",
      "96/96 [==============================] - 1s 10ms/step - loss: 0.6078 - categorical_accuracy: 0.7735 - val_loss: 0.6147 - val_categorical_accuracy: 0.7845\n",
      "Epoch 38/100\n",
      "96/96 [==============================] - 1s 9ms/step - loss: 0.5956 - categorical_accuracy: 0.7775 - val_loss: 0.6180 - val_categorical_accuracy: 0.7864\n",
      "Epoch 39/100\n",
      "96/96 [==============================] - 1s 9ms/step - loss: 0.5854 - categorical_accuracy: 0.7824 - val_loss: 0.6124 - val_categorical_accuracy: 0.7815\n",
      "Epoch 40/100\n",
      "96/96 [==============================] - 1s 13ms/step - loss: 0.5762 - categorical_accuracy: 0.7849 - val_loss: 0.5972 - val_categorical_accuracy: 0.7901\n",
      "Epoch 41/100\n",
      "96/96 [==============================] - 2s 16ms/step - loss: 0.5695 - categorical_accuracy: 0.7888 - val_loss: 0.5849 - val_categorical_accuracy: 0.7943\n",
      "Epoch 42/100\n",
      "96/96 [==============================] - 1s 9ms/step - loss: 0.5575 - categorical_accuracy: 0.7917 - val_loss: 0.5840 - val_categorical_accuracy: 0.7897\n",
      "Epoch 43/100\n",
      "96/96 [==============================] - 1s 8ms/step - loss: 0.5529 - categorical_accuracy: 0.7944 - val_loss: 0.5694 - val_categorical_accuracy: 0.7989\n",
      "Epoch 44/100\n",
      "96/96 [==============================] - 1s 12ms/step - loss: 0.5446 - categorical_accuracy: 0.7989 - val_loss: 0.5549 - val_categorical_accuracy: 0.8002\n",
      "Epoch 45/100\n",
      "96/96 [==============================] - 1s 10ms/step - loss: 0.5298 - categorical_accuracy: 0.8020 - val_loss: 0.5634 - val_categorical_accuracy: 0.8033\n",
      "Epoch 46/100\n",
      "96/96 [==============================] - 1s 12ms/step - loss: 0.5282 - categorical_accuracy: 0.8033 - val_loss: 0.5481 - val_categorical_accuracy: 0.8127\n",
      "Epoch 47/100\n",
      "96/96 [==============================] - 1s 9ms/step - loss: 0.5178 - categorical_accuracy: 0.8089 - val_loss: 0.5227 - val_categorical_accuracy: 0.8152\n",
      "Epoch 48/100\n",
      "96/96 [==============================] - 1s 8ms/step - loss: 0.5036 - categorical_accuracy: 0.8156 - val_loss: 0.5227 - val_categorical_accuracy: 0.8189\n",
      "Epoch 49/100\n",
      "96/96 [==============================] - 1s 7ms/step - loss: 0.4944 - categorical_accuracy: 0.8150 - val_loss: 0.5092 - val_categorical_accuracy: 0.8220\n",
      "Epoch 50/100\n",
      "96/96 [==============================] - 1s 9ms/step - loss: 0.4862 - categorical_accuracy: 0.8195 - val_loss: 0.4962 - val_categorical_accuracy: 0.8207\n",
      "Epoch 51/100\n",
      "96/96 [==============================] - 1s 11ms/step - loss: 0.4786 - categorical_accuracy: 0.8214 - val_loss: 0.4810 - val_categorical_accuracy: 0.8221\n",
      "Epoch 52/100\n",
      "96/96 [==============================] - 1s 10ms/step - loss: 0.4657 - categorical_accuracy: 0.8255 - val_loss: 0.4880 - val_categorical_accuracy: 0.8196\n",
      "Epoch 53/100\n",
      "96/96 [==============================] - 1s 10ms/step - loss: 0.4584 - categorical_accuracy: 0.8262 - val_loss: 0.4790 - val_categorical_accuracy: 0.8271\n",
      "Epoch 54/100\n",
      "96/96 [==============================] - 1s 9ms/step - loss: 0.4498 - categorical_accuracy: 0.8304 - val_loss: 0.4743 - val_categorical_accuracy: 0.8287\n",
      "Epoch 55/100\n",
      "96/96 [==============================] - 1s 7ms/step - loss: 0.4472 - categorical_accuracy: 0.8354 - val_loss: 0.4640 - val_categorical_accuracy: 0.8378\n",
      "Epoch 56/100\n",
      "96/96 [==============================] - 1s 7ms/step - loss: 0.4422 - categorical_accuracy: 0.8381 - val_loss: 0.4568 - val_categorical_accuracy: 0.8413\n",
      "Epoch 57/100\n",
      "96/96 [==============================] - 1s 7ms/step - loss: 0.4319 - categorical_accuracy: 0.8449 - val_loss: 0.4494 - val_categorical_accuracy: 0.8520\n",
      "Epoch 58/100\n",
      "96/96 [==============================] - 1s 8ms/step - loss: 0.4282 - categorical_accuracy: 0.8550 - val_loss: 0.4302 - val_categorical_accuracy: 0.8715\n",
      "Epoch 59/100\n",
      "96/96 [==============================] - 1s 10ms/step - loss: 0.4183 - categorical_accuracy: 0.8646 - val_loss: 0.4241 - val_categorical_accuracy: 0.8693\n",
      "Epoch 60/100\n",
      "96/96 [==============================] - 1s 7ms/step - loss: 0.4121 - categorical_accuracy: 0.8712 - val_loss: 0.4125 - val_categorical_accuracy: 0.8774\n",
      "Epoch 61/100\n",
      "96/96 [==============================] - 1s 7ms/step - loss: 0.4092 - categorical_accuracy: 0.8715 - val_loss: 0.4035 - val_categorical_accuracy: 0.8831\n",
      "Epoch 62/100\n",
      "96/96 [==============================] - 1s 7ms/step - loss: 0.3998 - categorical_accuracy: 0.8788 - val_loss: 0.4155 - val_categorical_accuracy: 0.8817\n",
      "Epoch 63/100\n",
      "96/96 [==============================] - 1s 7ms/step - loss: 0.3954 - categorical_accuracy: 0.8794 - val_loss: 0.3962 - val_categorical_accuracy: 0.8897\n",
      "Epoch 64/100\n",
      "96/96 [==============================] - 1s 8ms/step - loss: 0.3896 - categorical_accuracy: 0.8818 - val_loss: 0.3982 - val_categorical_accuracy: 0.8889\n",
      "Epoch 65/100\n",
      "96/96 [==============================] - 1s 10ms/step - loss: 0.3871 - categorical_accuracy: 0.8863 - val_loss: 0.3861 - val_categorical_accuracy: 0.8919\n",
      "Epoch 66/100\n",
      "96/96 [==============================] - 1s 7ms/step - loss: 0.3809 - categorical_accuracy: 0.8877 - val_loss: 0.3893 - val_categorical_accuracy: 0.8942\n",
      "Epoch 67/100\n",
      "96/96 [==============================] - 1s 8ms/step - loss: 0.3745 - categorical_accuracy: 0.8913 - val_loss: 0.3756 - val_categorical_accuracy: 0.8982\n",
      "Epoch 68/100\n",
      "96/96 [==============================] - 1s 7ms/step - loss: 0.3725 - categorical_accuracy: 0.8917 - val_loss: 0.3787 - val_categorical_accuracy: 0.8963\n",
      "Epoch 69/100\n",
      "96/96 [==============================] - 1s 7ms/step - loss: 0.3685 - categorical_accuracy: 0.8954 - val_loss: 0.3679 - val_categorical_accuracy: 0.9002\n",
      "Epoch 70/100\n",
      "96/96 [==============================] - 1s 8ms/step - loss: 0.3632 - categorical_accuracy: 0.8975 - val_loss: 0.3704 - val_categorical_accuracy: 0.9010\n",
      "Epoch 71/100\n",
      "96/96 [==============================] - 1s 9ms/step - loss: 0.3572 - categorical_accuracy: 0.8987 - val_loss: 0.3762 - val_categorical_accuracy: 0.8997\n",
      "Epoch 72/100\n",
      "96/96 [==============================] - 1s 8ms/step - loss: 0.3484 - categorical_accuracy: 0.9025 - val_loss: 0.3613 - val_categorical_accuracy: 0.9047\n",
      "Epoch 73/100\n",
      "96/96 [==============================] - 1s 7ms/step - loss: 0.3469 - categorical_accuracy: 0.9028 - val_loss: 0.3539 - val_categorical_accuracy: 0.9072\n",
      "Epoch 74/100\n",
      "96/96 [==============================] - 1s 8ms/step - loss: 0.3388 - categorical_accuracy: 0.9054 - val_loss: 0.3537 - val_categorical_accuracy: 0.9054\n",
      "Epoch 75/100\n",
      "96/96 [==============================] - 1s 9ms/step - loss: 0.3375 - categorical_accuracy: 0.9061 - val_loss: 0.3582 - val_categorical_accuracy: 0.9053\n",
      "Epoch 76/100\n",
      "96/96 [==============================] - 1s 8ms/step - loss: 0.3341 - categorical_accuracy: 0.9066 - val_loss: 0.3457 - val_categorical_accuracy: 0.9080\n",
      "Epoch 77/100\n",
      "96/96 [==============================] - 1s 9ms/step - loss: 0.3272 - categorical_accuracy: 0.9076 - val_loss: 0.3398 - val_categorical_accuracy: 0.9118\n",
      "Epoch 78/100\n",
      "96/96 [==============================] - 1s 7ms/step - loss: 0.3217 - categorical_accuracy: 0.9091 - val_loss: 0.3353 - val_categorical_accuracy: 0.9122\n",
      "Epoch 79/100\n",
      "96/96 [==============================] - 1s 7ms/step - loss: 0.3181 - categorical_accuracy: 0.9106 - val_loss: 0.3340 - val_categorical_accuracy: 0.9112\n",
      "Epoch 80/100\n",
      "96/96 [==============================] - 1s 7ms/step - loss: 0.3140 - categorical_accuracy: 0.9126 - val_loss: 0.3241 - val_categorical_accuracy: 0.9158\n",
      "Epoch 81/100\n",
      "96/96 [==============================] - 1s 7ms/step - loss: 0.3104 - categorical_accuracy: 0.9127 - val_loss: 0.3231 - val_categorical_accuracy: 0.9148\n",
      "Epoch 82/100\n",
      "96/96 [==============================] - 1s 7ms/step - loss: 0.3043 - categorical_accuracy: 0.9139 - val_loss: 0.3145 - val_categorical_accuracy: 0.9179\n",
      "Epoch 83/100\n",
      "96/96 [==============================] - 1s 9ms/step - loss: 0.2952 - categorical_accuracy: 0.9163 - val_loss: 0.3081 - val_categorical_accuracy: 0.9179\n",
      "Epoch 84/100\n",
      "96/96 [==============================] - 1s 9ms/step - loss: 0.2886 - categorical_accuracy: 0.9189 - val_loss: 0.3012 - val_categorical_accuracy: 0.9206\n",
      "Epoch 85/100\n",
      "96/96 [==============================] - 1s 7ms/step - loss: 0.2846 - categorical_accuracy: 0.9198 - val_loss: 0.3026 - val_categorical_accuracy: 0.9217\n",
      "Epoch 86/100\n",
      "96/96 [==============================] - 1s 7ms/step - loss: 0.2767 - categorical_accuracy: 0.9205 - val_loss: 0.2936 - val_categorical_accuracy: 0.9220\n",
      "Epoch 87/100\n",
      "96/96 [==============================] - 1s 9ms/step - loss: 0.2714 - categorical_accuracy: 0.9225 - val_loss: 0.2867 - val_categorical_accuracy: 0.9237\n",
      "Epoch 88/100\n",
      "96/96 [==============================] - 1s 10ms/step - loss: 0.2694 - categorical_accuracy: 0.9241 - val_loss: 0.2913 - val_categorical_accuracy: 0.9262\n",
      "Epoch 89/100\n",
      "96/96 [==============================] - 1s 10ms/step - loss: 0.2652 - categorical_accuracy: 0.9250 - val_loss: 0.2961 - val_categorical_accuracy: 0.9229\n",
      "Epoch 90/100\n",
      "96/96 [==============================] - 1s 11ms/step - loss: 0.2670 - categorical_accuracy: 0.9249 - val_loss: 0.2827 - val_categorical_accuracy: 0.9284\n",
      "Epoch 91/100\n",
      "96/96 [==============================] - 1s 9ms/step - loss: 0.2651 - categorical_accuracy: 0.9248 - val_loss: 0.2956 - val_categorical_accuracy: 0.9247\n",
      "Epoch 92/100\n",
      "96/96 [==============================] - 1s 9ms/step - loss: 0.2615 - categorical_accuracy: 0.9271 - val_loss: 0.2781 - val_categorical_accuracy: 0.9270\n",
      "Epoch 93/100\n",
      "96/96 [==============================] - 1s 10ms/step - loss: 0.2580 - categorical_accuracy: 0.9269 - val_loss: 0.2837 - val_categorical_accuracy: 0.9269\n",
      "Epoch 94/100\n",
      "96/96 [==============================] - 1s 9ms/step - loss: 0.2510 - categorical_accuracy: 0.9292 - val_loss: 0.2961 - val_categorical_accuracy: 0.9254\n",
      "Epoch 95/100\n",
      "96/96 [==============================] - 1s 10ms/step - loss: 0.2518 - categorical_accuracy: 0.9292 - val_loss: 0.2788 - val_categorical_accuracy: 0.9289\n",
      "Epoch 96/100\n",
      "96/96 [==============================] - 1s 7ms/step - loss: 0.2508 - categorical_accuracy: 0.9288 - val_loss: 0.2831 - val_categorical_accuracy: 0.9286\n",
      "Epoch 97/100\n",
      "96/96 [==============================] - 1s 7ms/step - loss: 0.2490 - categorical_accuracy: 0.9288 - val_loss: 0.2843 - val_categorical_accuracy: 0.9279\n"
     ]
    }
   ],
   "source": [
    "results = model.fit(\n",
    "    xtrain_flatten,\n",
    "    ytrain_categorical, \n",
    "    epochs=100, # number of iterations through the complete dataset            \n",
    "    batch_size=500, # number of observations used when updating weights, gradient        \n",
    "    validation_split=0.2, # 20% of the data is used for validation\n",
    "    callbacks=[stop_early]\n",
    ")"
   ]
  },
  {
   "attachments": {},
   "cell_type": "markdown",
   "metadata": {},
   "source": [
    "### Inspect the learning curves"
   ]
  },
  {
   "cell_type": "code",
   "execution_count": 55,
   "metadata": {},
   "outputs": [],
   "source": [
    "# losses in the training history\n",
    "losses = pd.DataFrame(model.history.history)\n",
    "# training loss\n",
    "loss = losses['loss'].values \n",
    "# validation loss\n",
    "val_loss = losses['val_loss'].values\n",
    "\n",
    "# epoch number\n",
    "epoch = losses.index.values + np.ones_like(losses.index.values)"
   ]
  },
  {
   "cell_type": "code",
   "execution_count": 56,
   "metadata": {},
   "outputs": [
    {
     "data": {
      "image/png": "[encoded data removed]",
      "text/plain": [
       "<Figure size 800x400 with 1 Axes>"
      ]
     },
     "metadata": {},
     "output_type": "display_data"
    }
   ],
   "source": [
    "# plot losses against epoch number in log-scale\n",
    "plt.figure(figsize=(8,4),dpi=100)\n",
    "plt.semilogx(epoch, loss, linewidth=1.5, label='loss')\n",
    "plt.semilogx(epoch, val_loss, linewidth=1.5, label='val_loss')\n",
    "\n",
    "plt.xlabel('epoch',fontsize=10)\n",
    "plt.ylabel('loss value',fontsize=10)\n",
    "plt.legend(loc=1,fontsize=10);"
   ]
  }
 ],
 "metadata": {
  "kernelspec": {
   "display_name": "deep_learning",
   "language": "python",
   "name": "python3"
  },
  "language_info": {
   "codemirror_mode": {
    "name": "ipython",
    "version": 3
   },
   "file_extension": ".py",
   "mimetype": "text/x-python",
   "name": "python",
   "nbconvert_exporter": "python",
   "pygments_lexer": "ipython3",
   "version": "3.9.16"
  },
  "orig_nbformat": 4,
  "vscode": {
   "interpreter": {
    "hash": "18e79743adfce2d7b05ce6d2b9b17cbe46f030ef53fb4361fb3e6c08d6f5834a"
   }
  }
 },
 "nbformat": 4,
 "nbformat_minor": 2
}
