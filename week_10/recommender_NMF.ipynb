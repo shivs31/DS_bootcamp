{
 "cells": [
  {
   "cell_type": "code",
   "execution_count": null,
   "id": "35b2849f",
   "metadata": {},
   "outputs": [],
   "source": [
    "import pandas as pd\n",
    "import numpy as np\n",
    "from sklearn.decomposition import NMF \n",
    "import pickle"
   ]
  },
  {
   "cell_type": "code",
   "execution_count": null,
   "id": "9947e2ac",
   "metadata": {},
   "outputs": [],
   "source": [
    "movie_df = pd.read_csv('./data/ml-latest-small/movies.csv')\n",
    "rating_df = pd.read_csv('./data/ml-latest-small/ratings.csv')\n",
    "link_df = pd.read_csv('./data/ml-latest-small/links.csv')\n",
    "tag_df = pd.read_csv('./data/ml-latest-small/tags.csv')"
   ]
  },
  {
   "cell_type": "code",
   "execution_count": null,
   "id": "4a633386",
   "metadata": {},
   "outputs": [],
   "source": [
    "rating_df"
   ]
  },
  {
   "cell_type": "code",
   "execution_count": null,
   "id": "d9295238",
   "metadata": {},
   "outputs": [],
   "source": [
    "rating_df = rating_df.rename(columns={'movieId': 'movie_id'})\n",
    "movie_df = movie_df.rename(columns={'movieId': 'movie_id'})\n",
    "rating_df = rating_df.rename(columns={'userId': 'user_id'})\n"
   ]
  },
  {
   "cell_type": "code",
   "execution_count": null,
   "id": "af61e2b7",
   "metadata": {},
   "outputs": [],
   "source": [
    "# calculate the number of ratings per movie\n",
    "rating_count = rating_df.groupby('movie_id')[['rating']].count()\n",
    "rating_count"
   ]
  },
  {
   "cell_type": "code",
   "execution_count": null,
   "id": "57a33bcc",
   "metadata": {},
   "outputs": [],
   "source": [
    "# filter for movies with more than 20 ratings and extract the index\n",
    "popular_movies = rating_count[rating_count['rating']>20].index\n",
    "popular_movies\n"
   ]
  },
  {
   "cell_type": "code",
   "execution_count": null,
   "id": "52c2a78f",
   "metadata": {},
   "outputs": [],
   "source": [
    "# filter the ratings matrix and only keep the popular movies\n",
    "df = rating_df[rating_df['movie_id'].isin(popular_movies)].copy()\n",
    "df"
   ]
  },
  {
   "cell_type": "code",
   "execution_count": null,
   "id": "1e740980",
   "metadata": {},
   "outputs": [],
   "source": [
    "rating_df.shape, df.shape"
   ]
  },
  {
   "cell_type": "code",
   "execution_count": null,
   "id": "df710fd3",
   "metadata": {},
   "outputs": [],
   "source": [
    "# need to remake user ids and movie ids since they are not sequential\n",
    "user_ids = df['user_id'].unique()\n",
    "user_ids"
   ]
  },
  {
   "cell_type": "code",
   "execution_count": null,
   "id": "36ead23b",
   "metadata": {},
   "outputs": [],
   "source": [
    "user_id_map = {v:k for k,v in enumerate(user_ids)}\n",
    "df['user_id'] = df['user_id'].map(user_id_map)\n",
    "df"
   ]
  },
  {
   "cell_type": "code",
   "execution_count": null,
   "id": "d201a0be",
   "metadata": {},
   "outputs": [],
   "source": [
    "movie_df"
   ]
  },
  {
   "cell_type": "code",
   "execution_count": null,
   "id": "6686610e",
   "metadata": {},
   "outputs": [],
   "source": [
    "#movie_id_map = {}\n",
    "#for key, value in enumerate(movie_ids):\n",
    "#    movie_id_map[value] = key"
   ]
  },
  {
   "cell_type": "code",
   "execution_count": null,
   "id": "fd165124",
   "metadata": {},
   "outputs": [],
   "source": [
    "#similarly for the movie_id:\n",
    "movie_ids = df['movie_id'].unique()\n",
    "movie_ids\n"
   ]
  },
  {
   "cell_type": "code",
   "execution_count": null,
   "id": "3cd1ed21",
   "metadata": {},
   "outputs": [],
   "source": [
    "movie_id_map = {v:k for k,v in enumerate(movie_ids)}\n",
    "df['movie_id'] = df['movie_id'].map(movie_id_map)\n",
    "df"
   ]
  },
  {
   "cell_type": "code",
   "execution_count": null,
   "id": "995a6a39",
   "metadata": {},
   "outputs": [],
   "source": [
    "# filter out unpopular movies\n",
    "movies = movie_df[movie_df['movie_id'].isin(movie_ids)]\n",
    "movies"
   ]
  },
  {
   "cell_type": "code",
   "execution_count": null,
   "id": "b469bc95",
   "metadata": {},
   "outputs": [],
   "source": [
    "# redefine movie ids\n",
    "movies['movie_id'] = movies['movie_id'].map(movie_id_map)\n",
    "movies"
   ]
  },
  {
   "cell_type": "code",
   "execution_count": null,
   "id": "dc14895d",
   "metadata": {},
   "outputs": [],
   "source": [
    "movie_title = movies.sort_values('movie_id')['title']\n",
    "movie_title"
   ]
  },
  {
   "cell_type": "code",
   "execution_count": null,
   "id": "78168e67",
   "metadata": {},
   "outputs": [],
   "source": [
    "from scipy.sparse import csr_matrix\n",
    "R = csr_matrix((df['rating'], (df['user_id'], df['movie_id'])))"
   ]
  },
  {
   "cell_type": "code",
   "execution_count": null,
   "id": "4b20857c",
   "metadata": {},
   "outputs": [],
   "source": [
    "R.shape"
   ]
  },
  {
   "cell_type": "code",
   "execution_count": null,
   "id": "677599bd",
   "metadata": {},
   "outputs": [],
   "source": [
    "R.todense()"
   ]
  },
  {
   "cell_type": "code",
   "execution_count": null,
   "id": "e0ec95db",
   "metadata": {},
   "outputs": [],
   "source": [
    "Rating = pd.DataFrame(R.todense(), columns = movie_title)\n",
    "Rating"
   ]
  },
  {
   "attachments": {},
   "cell_type": "markdown",
   "id": "d4bc50e5",
   "metadata": {},
   "source": [
    "### NMF recommender function\n",
    "1. Implement a recommender **function** that recommends movies to a new user based on the NMF model!"
   ]
  },
  {
   "cell_type": "code",
   "execution_count": null,
   "id": "27acdc80",
   "metadata": {},
   "outputs": [],
   "source": [
    " #load the model\n",
    "with open('nmf_1000.pkl','rb') as file:\n",
    "        nmf_model = pickle.load(file)"
   ]
  },
  {
   "cell_type": "code",
   "execution_count": null,
   "id": "5d043372",
   "metadata": {},
   "outputs": [],
   "source": [
    "new_user_query = {'Toy Story (1995)': 1, \n",
    "                 'Joe Dirt (2001)':2, \n",
    "                 \"Heat (1995)\": 3.5 ,\n",
    "                 \"Little Nicky (2000)\":5}"
   ]
  },
  {
   "cell_type": "code",
   "execution_count": null,
   "id": "b09bbb41",
   "metadata": {},
   "outputs": [],
   "source": [
    "def recommend_nmf(new_user_query, nmf_model, ranked=10):\n",
    "    \"\"\"\n",
    "    Filters and recommends the top ranked movies for any given input query based on a trained NMF model. \n",
    "    Returns a list of top ranked movie titles.\n",
    "    \"\"\"\n",
    "\n",
    "    # 1. construct new_user-item dataframe given the query\n",
    "    Q_matrix = nmf_model.components_\n",
    "    Q = pd.DataFrame(Q_matrix, columns= movie_title,index=nmf_model.get_feature_names_out())    \n",
    "    \n",
    "    #convert new_user_query into dataframe\n",
    "    new_user_dataframe =  pd.DataFrame(new_user_query,\n",
    "                                           columns=movie_title,\n",
    "                                           index=['new_user_query']\n",
    "                                           )\n",
    "        \n",
    "    #filling the missing values with 0\n",
    "    new_user_dataframe_imputed = new_user_dataframe.fillna(0)\n",
    "    \n",
    "    # 2. scoring\n",
    "    P_new_user_matrix = nmf_model.transform(new_user_dataframe_imputed)\n",
    "    # calculate the score with the NMF model\n",
    "    R_hat_new_user_matrix = np.dot(P_new_user_matrix, Q_matrix)\n",
    "    \n",
    "    # 3. ranking\n",
    "    \n",
    "    # filter out movies already seen by the user\n",
    "    R_hat_new_user = pd.DataFrame(data=R_hat_new_user_matrix,\n",
    "                         columns=movie_title,\n",
    "                         index = ['new_user'])\n",
    "\n",
    "    R_hat_new_user_filtered =  R_hat_new_user.drop(new_user_query.keys(), axis=1)\n",
    "        \n",
    "    # return the top-k highest rated movie ids or titles\n",
    "    ranked =  R_hat_new_user_filtered.T.sort_values(by =['new_user'],ascending=False).index.to_list()\n",
    "\n",
    "    recommended = ranked[:3]\n",
    "    \n",
    "    return recommended"
   ]
  },
  {
   "cell_type": "code",
   "execution_count": null,
   "id": "2556a282",
   "metadata": {},
   "outputs": [],
   "source": [
    "new_user_query = {'Toy Story (1995)': 1, \n",
    "                 'Joe Dirt (2001)':2, \n",
    "                 \"Heat (1995)\": 3.5 ,\n",
    "                 \"Little Nicky (2000)\":5}\n",
    "\n",
    "recommend_nmf(new_user_query, nmf_model, ranked=10)"
   ]
  }
 ],
 "metadata": {
  "kernelspec": {
   "display_name": "base",
   "language": "python",
   "name": "python3"
  },
  "language_info": {
   "codemirror_mode": {
    "name": "ipython",
    "version": 3
   },
   "file_extension": ".py",
   "mimetype": "text/x-python",
   "name": "python",
   "nbconvert_exporter": "python",
   "pygments_lexer": "ipython3",
   "version": "3.10.9"
  },
  "vscode": {
   "interpreter": {
    "hash": "c1ea6271b61d535069f13f996b270d4faf0b69c7ab347ad3ada8d7411ecc3247"
   }
  }
 },
 "nbformat": 4,
 "nbformat_minor": 5
}
