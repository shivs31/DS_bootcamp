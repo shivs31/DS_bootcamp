{
 "cells": [
  {
   "cell_type": "markdown",
   "metadata": {},
   "source": [
    "# Convolutional Neural Networks \n",
    "---"
   ]
  },
  {
   "cell_type": "markdown",
   "metadata": {},
   "source": [
    "#### Example CNN"
   ]
  },
  {
   "cell_type": "markdown",
   "metadata": {},
   "source": [
    "The typical architecture of CNNs has a couple of convolutional layers, followed by _fully connected_ layer, i.e. feed forward NN."
   ]
  },
  {
   "cell_type": "markdown",
   "metadata": {},
   "source": [
    "In some of the most famous CNN architectures it is common to alternate convolutional and pooling layers, like this. Shown below is one of the classical CNN architecture, LeNet-5."
   ]
  },
  {
   "cell_type": "markdown",
   "metadata": {},
   "source": [
    "<img src='cnn_with_poolin.jpeg' >"
   ]
  },
  {
   "cell_type": "markdown",
   "metadata": {},
   "source": [
    "## CNNs in Keras"
   ]
  },
  {
   "cell_type": "code",
   "execution_count": 3,
   "metadata": {},
   "outputs": [],
   "source": [
    "from tensorflow.keras import backend as K\n",
    "import tensorflow.keras as tk\n",
    "from tensorflow.keras.datasets import mnist, fashion_mnist,cifar10\n",
    "from tensorflow.keras.models import Sequential, Model\n",
    "from tensorflow.keras.layers import Conv2D, Dense, MaxPooling2D, Flatten, BatchNormalization,Dropout\n",
    "from tensorflow.keras.utils import to_categorical\n",
    "from tensorflow.keras.callbacks import EarlyStopping\n",
    "\n",
    "from matplotlib import pyplot as plt\n",
    "import numpy as np\n",
    "import pandas as pd"
   ]
  },
  {
   "cell_type": "markdown",
   "metadata": {},
   "source": [
    "### Preprocess the data:"
   ]
  },
  {
   "cell_type": "code",
   "execution_count": 4,
   "metadata": {},
   "outputs": [],
   "source": [
    "# Load data:\n",
    "(xtrain,ytrain),(xtest,ytest) = mnist.load_data()"
   ]
  },
  {
   "cell_type": "code",
   "execution_count": 5,
   "metadata": {},
   "outputs": [
    {
     "data": {
      "text/plain": [
       "((60000, 28, 28), (60000,), (10000, 28, 28), (10000,))"
      ]
     },
     "execution_count": 5,
     "metadata": {},
     "output_type": "execute_result"
    }
   ],
   "source": [
    "# Check shapes:\n",
    "xtrain.shape, ytrain.shape, xtest.shape, ytest.shape"
   ]
  },
  {
   "cell_type": "code",
   "execution_count": 6,
   "metadata": {},
   "outputs": [],
   "source": [
    "# To feed the images in a CNN we need to reshape our X data to the format \n",
    "# (batch/sample, width, heigth, channels):\n",
    "# The mnist data are black and white images so we need just 1 color channel\n",
    "\n",
    "Xtrain = xtrain.reshape(60000, 28, 28,1)\n",
    "Xtest = xtest.reshape(10000, 28, 28,1)"
   ]
  },
  {
   "cell_type": "code",
   "execution_count": 7,
   "metadata": {},
   "outputs": [
    {
     "name": "stdout",
     "output_type": "stream",
     "text": [
      "Xtrain shape: (60000, 28, 28, 1)\n",
      "60000 train samples\n",
      "10000 test samples\n",
      "(28, 28, 1) image shape\n",
      "ytrain shape: (60000,)\n"
     ]
    }
   ],
   "source": [
    "# Always keep checking shapes:\n",
    "print('Xtrain shape:', Xtrain.shape)\n",
    "print(Xtrain.shape[0], 'train samples')\n",
    "print(Xtest.shape[0], 'test samples')\n",
    "print(Xtrain[0].shape, 'image shape')\n",
    "print('ytrain shape:', ytrain.shape)"
   ]
  },
  {
   "cell_type": "code",
   "execution_count": 8,
   "metadata": {
    "tags": []
   },
   "outputs": [
    {
     "data": {
      "text/plain": [
       "array([[[[0],\n",
       "         [0],\n",
       "         [0],\n",
       "         ...,\n",
       "         [0],\n",
       "         [0],\n",
       "         [0]],\n",
       "\n",
       "        [[0],\n",
       "         [0],\n",
       "         [0],\n",
       "         ...,\n",
       "         [0],\n",
       "         [0],\n",
       "         [0]],\n",
       "\n",
       "        [[0],\n",
       "         [0],\n",
       "         [0],\n",
       "         ...,\n",
       "         [0],\n",
       "         [0],\n",
       "         [0]],\n",
       "\n",
       "        ...,\n",
       "\n",
       "        [[0],\n",
       "         [0],\n",
       "         [0],\n",
       "         ...,\n",
       "         [0],\n",
       "         [0],\n",
       "         [0]],\n",
       "\n",
       "        [[0],\n",
       "         [0],\n",
       "         [0],\n",
       "         ...,\n",
       "         [0],\n",
       "         [0],\n",
       "         [0]],\n",
       "\n",
       "        [[0],\n",
       "         [0],\n",
       "         [0],\n",
       "         ...,\n",
       "         [0],\n",
       "         [0],\n",
       "         [0]]],\n",
       "\n",
       "\n",
       "       [[[0],\n",
       "         [0],\n",
       "         [0],\n",
       "         ...,\n",
       "         [0],\n",
       "         [0],\n",
       "         [0]],\n",
       "\n",
       "        [[0],\n",
       "         [0],\n",
       "         [0],\n",
       "         ...,\n",
       "         [0],\n",
       "         [0],\n",
       "         [0]],\n",
       "\n",
       "        [[0],\n",
       "         [0],\n",
       "         [0],\n",
       "         ...,\n",
       "         [0],\n",
       "         [0],\n",
       "         [0]],\n",
       "\n",
       "        ...,\n",
       "\n",
       "        [[0],\n",
       "         [0],\n",
       "         [0],\n",
       "         ...,\n",
       "         [0],\n",
       "         [0],\n",
       "         [0]],\n",
       "\n",
       "        [[0],\n",
       "         [0],\n",
       "         [0],\n",
       "         ...,\n",
       "         [0],\n",
       "         [0],\n",
       "         [0]],\n",
       "\n",
       "        [[0],\n",
       "         [0],\n",
       "         [0],\n",
       "         ...,\n",
       "         [0],\n",
       "         [0],\n",
       "         [0]]],\n",
       "\n",
       "\n",
       "       [[[0],\n",
       "         [0],\n",
       "         [0],\n",
       "         ...,\n",
       "         [0],\n",
       "         [0],\n",
       "         [0]],\n",
       "\n",
       "        [[0],\n",
       "         [0],\n",
       "         [0],\n",
       "         ...,\n",
       "         [0],\n",
       "         [0],\n",
       "         [0]],\n",
       "\n",
       "        [[0],\n",
       "         [0],\n",
       "         [0],\n",
       "         ...,\n",
       "         [0],\n",
       "         [0],\n",
       "         [0]],\n",
       "\n",
       "        ...,\n",
       "\n",
       "        [[0],\n",
       "         [0],\n",
       "         [0],\n",
       "         ...,\n",
       "         [0],\n",
       "         [0],\n",
       "         [0]],\n",
       "\n",
       "        [[0],\n",
       "         [0],\n",
       "         [0],\n",
       "         ...,\n",
       "         [0],\n",
       "         [0],\n",
       "         [0]],\n",
       "\n",
       "        [[0],\n",
       "         [0],\n",
       "         [0],\n",
       "         ...,\n",
       "         [0],\n",
       "         [0],\n",
       "         [0]]],\n",
       "\n",
       "\n",
       "       ...,\n",
       "\n",
       "\n",
       "       [[[0],\n",
       "         [0],\n",
       "         [0],\n",
       "         ...,\n",
       "         [0],\n",
       "         [0],\n",
       "         [0]],\n",
       "\n",
       "        [[0],\n",
       "         [0],\n",
       "         [0],\n",
       "         ...,\n",
       "         [0],\n",
       "         [0],\n",
       "         [0]],\n",
       "\n",
       "        [[0],\n",
       "         [0],\n",
       "         [0],\n",
       "         ...,\n",
       "         [0],\n",
       "         [0],\n",
       "         [0]],\n",
       "\n",
       "        ...,\n",
       "\n",
       "        [[0],\n",
       "         [0],\n",
       "         [0],\n",
       "         ...,\n",
       "         [0],\n",
       "         [0],\n",
       "         [0]],\n",
       "\n",
       "        [[0],\n",
       "         [0],\n",
       "         [0],\n",
       "         ...,\n",
       "         [0],\n",
       "         [0],\n",
       "         [0]],\n",
       "\n",
       "        [[0],\n",
       "         [0],\n",
       "         [0],\n",
       "         ...,\n",
       "         [0],\n",
       "         [0],\n",
       "         [0]]],\n",
       "\n",
       "\n",
       "       [[[0],\n",
       "         [0],\n",
       "         [0],\n",
       "         ...,\n",
       "         [0],\n",
       "         [0],\n",
       "         [0]],\n",
       "\n",
       "        [[0],\n",
       "         [0],\n",
       "         [0],\n",
       "         ...,\n",
       "         [0],\n",
       "         [0],\n",
       "         [0]],\n",
       "\n",
       "        [[0],\n",
       "         [0],\n",
       "         [0],\n",
       "         ...,\n",
       "         [0],\n",
       "         [0],\n",
       "         [0]],\n",
       "\n",
       "        ...,\n",
       "\n",
       "        [[0],\n",
       "         [0],\n",
       "         [0],\n",
       "         ...,\n",
       "         [0],\n",
       "         [0],\n",
       "         [0]],\n",
       "\n",
       "        [[0],\n",
       "         [0],\n",
       "         [0],\n",
       "         ...,\n",
       "         [0],\n",
       "         [0],\n",
       "         [0]],\n",
       "\n",
       "        [[0],\n",
       "         [0],\n",
       "         [0],\n",
       "         ...,\n",
       "         [0],\n",
       "         [0],\n",
       "         [0]]],\n",
       "\n",
       "\n",
       "       [[[0],\n",
       "         [0],\n",
       "         [0],\n",
       "         ...,\n",
       "         [0],\n",
       "         [0],\n",
       "         [0]],\n",
       "\n",
       "        [[0],\n",
       "         [0],\n",
       "         [0],\n",
       "         ...,\n",
       "         [0],\n",
       "         [0],\n",
       "         [0]],\n",
       "\n",
       "        [[0],\n",
       "         [0],\n",
       "         [0],\n",
       "         ...,\n",
       "         [0],\n",
       "         [0],\n",
       "         [0]],\n",
       "\n",
       "        ...,\n",
       "\n",
       "        [[0],\n",
       "         [0],\n",
       "         [0],\n",
       "         ...,\n",
       "         [0],\n",
       "         [0],\n",
       "         [0]],\n",
       "\n",
       "        [[0],\n",
       "         [0],\n",
       "         [0],\n",
       "         ...,\n",
       "         [0],\n",
       "         [0],\n",
       "         [0]],\n",
       "\n",
       "        [[0],\n",
       "         [0],\n",
       "         [0],\n",
       "         ...,\n",
       "         [0],\n",
       "         [0],\n",
       "         [0]]]], dtype=uint8)"
      ]
     },
     "execution_count": 8,
     "metadata": {},
     "output_type": "execute_result"
    }
   ],
   "source": [
    "Xtrain"
   ]
  },
  {
   "cell_type": "code",
   "execution_count": 9,
   "metadata": {
    "tags": []
   },
   "outputs": [
    {
     "data": {
      "image/png": "[encoded data removed]",
      "text/plain": [
       "<Figure size 1600x1600 with 25 Axes>"
      ]
     },
     "metadata": {},
     "output_type": "display_data"
    }
   ],
   "source": [
    "# plot the train images  with the labels\n",
    "plt.figure(figsize=(16,16))\n",
    "for i in range(25):\n",
    "    plt.subplot(5, 5, i+1,title=f'Number: {ytrain[i]}')\n",
    "    plt.imshow(xtrain[i],cmap='gray')\n",
    "    plt.axis('off')"
   ]
  },
  {
   "cell_type": "code",
   "execution_count": 10,
   "metadata": {},
   "outputs": [],
   "source": [
    "# The labels are 10 numbers (0...9) we transform it into 10 classes \n",
    "# ytrain, ytest from number to categorical/dummies\n",
    "\n",
    "ytrain_cat = to_categorical(ytrain)\n",
    "ytest_cat = to_categorical(ytrain)"
   ]
  },
  {
   "cell_type": "code",
   "execution_count": 11,
   "metadata": {},
   "outputs": [
    {
     "data": {
      "text/plain": [
       "(60000, 10)"
      ]
     },
     "execution_count": 11,
     "metadata": {},
     "output_type": "execute_result"
    }
   ],
   "source": [
    "ytrain_cat.shape"
   ]
  },
  {
   "cell_type": "code",
   "execution_count": 12,
   "metadata": {},
   "outputs": [
    {
     "data": {
      "text/plain": [
       "array([[0., 0., 0., ..., 0., 0., 0.],\n",
       "       [1., 0., 0., ..., 0., 0., 0.],\n",
       "       [0., 0., 0., ..., 0., 0., 0.],\n",
       "       ...,\n",
       "       [0., 0., 0., ..., 0., 0., 0.],\n",
       "       [0., 0., 0., ..., 0., 0., 0.],\n",
       "       [0., 0., 0., ..., 0., 1., 0.]], dtype=float32)"
      ]
     },
     "execution_count": 12,
     "metadata": {},
     "output_type": "execute_result"
    }
   ],
   "source": [
    "ytrain_cat"
   ]
  },
  {
   "cell_type": "code",
   "execution_count": 13,
   "metadata": {
    "tags": []
   },
   "outputs": [
    {
     "data": {
      "text/plain": [
       "(array([5, 0, 4, ..., 5, 6, 8]), array([5, 0, 4, ..., 5, 6, 8]))"
      ]
     },
     "execution_count": 13,
     "metadata": {},
     "output_type": "execute_result"
    }
   ],
   "source": [
    "# from categorical to number\n",
    "#argmax gives the index of the max value in each row\n",
    "np.argmax(ytrain_cat,axis=1),np.argmax(ytest_cat,axis=1)"
   ]
  },
  {
   "cell_type": "code",
   "execution_count": 14,
   "metadata": {},
   "outputs": [
    {
     "name": "stdout",
     "output_type": "stream",
     "text": [
      "After preprocessing also y:\n",
      "\n",
      "Xtrain shape: (60000, 28, 28, 1)\n",
      "60000 train samples\n",
      "10000 test samples\n",
      "(28, 28, 1) image shape\n",
      "ytrain cat shape: (60000, 10)\n"
     ]
    }
   ],
   "source": [
    "print('After preprocessing also y:\\n')\n",
    "print('Xtrain shape:', Xtrain.shape)\n",
    "print(Xtrain.shape[0], 'train samples')\n",
    "print(Xtest.shape[0], 'test samples')\n",
    "print(Xtrain[0].shape, 'image shape')\n",
    "print('ytrain cat shape:', ytrain_cat.shape)"
   ]
  },
  {
   "cell_type": "markdown",
   "metadata": {},
   "source": [
    "#### LeNet-5 in Keras"
   ]
  },
  {
   "cell_type": "markdown",
   "metadata": {},
   "source": [
    "Implement LeNet-5 architecture from above. \n",
    "\n",
    "Use `relu` activation function for convolutional and fully-connected (dense) layers, and `softmax` for the output layer.\n",
    "\n",
    "Q: How do we deal with the fact that our images (28x28) are smaller than the input images in LeNet-t (32, 32)?"
   ]
  },
  {
   "cell_type": "markdown",
   "metadata": {},
   "source": [
    "Links to layers documentation:\n",
    "+ [Conv2D](https://keras.io/api/layers/convolution_layers/convolution2d/)\n",
    "+ [MaxPooling2D](https://keras.io/api/layers/pooling_layers/max_pooling2d/)\n",
    "+ [Flatten](https://keras.io/api/layers/reshaping_layers/flatten/)\n",
    "+ [Dense](https://keras.io/api/layers/core_layers/dense/)\n",
    "+ [Weight Initializers](https://keras.io/api/layers/initializers/)\n",
    "+ [Activation Functions](https://keras.io/api/layers/activations/)\n"
   ]
  },
  {
   "cell_type": "markdown",
   "metadata": {
    "tags": []
   },
   "source": [
    "<img src='cnn_with_poolin.jpeg' width=600 heigth=600>"
   ]
  },
  {
   "attachments": {},
   "cell_type": "markdown",
   "metadata": {},
   "source": [
    "**config**"
   ]
  },
  {
   "cell_type": "code",
   "execution_count": 32,
   "metadata": {},
   "outputs": [],
   "source": [
    "### Implement LeNet-5 architecture \n",
    "K.clear_session()\n",
    "model = Sequential([\n",
    "    \n",
    "    ### Convolutional layers\n",
    "    Conv2D(filters = 6 , kernel_size = (5,5), \n",
    "           strides = (1,1), padding = \"valid\", \n",
    "           activation = tk.activations.relu , input_shape = (28,28,1), # use relu\n",
    "           kernel_initializer=tk.initializers.GlorotNormal(seed=34)),  # how to initialise the model parameters\n",
    "           \n",
    "    \n",
    "    MaxPooling2D(pool_size = (2,2), strides=(2,2), padding = \"valid\"),\n",
    "    \n",
    "    Conv2D(filters = 16, kernel_size = (5,5), \n",
    "           strides = (1,1), padding = \"valid\" , \n",
    "           activation = tk.activations.relu, input_shape = (10,10,16)) ,  # use relu\n",
    "           #kernel_initializer=tk.initializers.GlorotNormal(seed=34)),\n",
    "            \n",
    "    \n",
    "    MaxPooling2D(pool_size = (2,2), strides=(2,2), padding = \"valid\"),\n",
    "    \n",
    "    ### Fully connected layers for classification\n",
    "    \n",
    "    Flatten(),\n",
    "    \n",
    "    Dense(units=400, activation= tk.activations.relu),  # use relu\n",
    "    \n",
    "    Dense(units=120, activation=tk.activations.relu), # use relu\n",
    "          \n",
    "    \n",
    "    \n",
    "    # Output layer\n",
    "    # think of how many categories we have to predict \n",
    "    Dense(units=10, activation=tk.activations.softmax)\n",
    "])"
   ]
  },
  {
   "cell_type": "code",
   "execution_count": 33,
   "metadata": {},
   "outputs": [
    {
     "name": "stdout",
     "output_type": "stream",
     "text": [
      "Model: \"sequential\"\n",
      "_________________________________________________________________\n",
      " Layer (type)                Output Shape              Param #   \n",
      "=================================================================\n",
      " conv2d (Conv2D)             (None, 24, 24, 6)         156       \n",
      "                                                                 \n",
      " max_pooling2d (MaxPooling2D  (None, 12, 12, 6)        0         \n",
      " )                                                               \n",
      "                                                                 \n",
      " conv2d_1 (Conv2D)           (None, 8, 8, 16)          2416      \n",
      "                                                                 \n",
      " max_pooling2d_1 (MaxPooling  (None, 4, 4, 16)         0         \n",
      " 2D)                                                             \n",
      "                                                                 \n",
      " flatten (Flatten)           (None, 256)               0         \n",
      "                                                                 \n",
      " dense (Dense)               (None, 400)               102800    \n",
      "                                                                 \n",
      " dense_1 (Dense)             (None, 120)               48120     \n",
      "                                                                 \n",
      " dense_2 (Dense)             (None, 10)                1210      \n",
      "                                                                 \n",
      "=================================================================\n",
      "Total params: 154,702\n",
      "Trainable params: 154,702\n",
      "Non-trainable params: 0\n",
      "_________________________________________________________________\n"
     ]
    }
   ],
   "source": [
    "# Check the summary:\n",
    "model.summary()"
   ]
  },
  {
   "cell_type": "markdown",
   "metadata": {},
   "source": [
    "+ [List of optimizers](https://keras.io/api/optimizers/)\n",
    "+ [List of Loss functions](https://keras.io/api/losses/)"
   ]
  },
  {
   "cell_type": "code",
   "execution_count": 34,
   "metadata": {},
   "outputs": [],
   "source": [
    "# Compile \n",
    "model.compile(optimizer=tk.optimizers.Adam(), # Adam()\n",
    "              loss=tk.losses.categorical_crossentropy , # multiclass: 'categorical_crossentropy' \n",
    "              metrics=['accuracy'])"
   ]
  },
  {
   "cell_type": "code",
   "execution_count": 35,
   "metadata": {},
   "outputs": [
    {
     "data": {
      "text/plain": [
       "((60000, 28, 28, 1), (60000, 10))"
      ]
     },
     "execution_count": 35,
     "metadata": {},
     "output_type": "execute_result"
    }
   ],
   "source": [
    "Xtrain.shape,ytrain_cat.shape"
   ]
  },
  {
   "cell_type": "code",
   "execution_count": 36,
   "metadata": {
    "scrolled": true
   },
   "outputs": [
    {
     "name": "stdout",
     "output_type": "stream",
     "text": [
      "Epoch 1/20\n",
      "800/800 [==============================] - 31s 36ms/step - loss: 0.4575 - accuracy: 0.9131 - val_loss: 0.1329 - val_accuracy: 0.9626\n",
      "Epoch 2/20\n",
      "800/800 [==============================] - 28s 35ms/step - loss: 0.0962 - accuracy: 0.9708 - val_loss: 0.0957 - val_accuracy: 0.9728\n",
      "Epoch 3/20\n",
      "800/800 [==============================] - 23s 29ms/step - loss: 0.0718 - accuracy: 0.9780 - val_loss: 0.0847 - val_accuracy: 0.9760\n",
      "Epoch 4/20\n",
      "800/800 [==============================] - 24s 30ms/step - loss: 0.0570 - accuracy: 0.9827 - val_loss: 0.0962 - val_accuracy: 0.9720\n",
      "Epoch 5/20\n",
      "800/800 [==============================] - 24s 30ms/step - loss: 0.0481 - accuracy: 0.9850 - val_loss: 0.0685 - val_accuracy: 0.9818\n",
      "Epoch 6/20\n",
      "800/800 [==============================] - 24s 30ms/step - loss: 0.0414 - accuracy: 0.9871 - val_loss: 0.0861 - val_accuracy: 0.9775\n",
      "Epoch 7/20\n",
      "800/800 [==============================] - 28s 35ms/step - loss: 0.0444 - accuracy: 0.9868 - val_loss: 0.0810 - val_accuracy: 0.9778\n",
      "Epoch 8/20\n",
      "800/800 [==============================] - 28s 35ms/step - loss: 0.0348 - accuracy: 0.9895 - val_loss: 0.0720 - val_accuracy: 0.9797\n",
      "Epoch 9/20\n",
      "800/800 [==============================] - 28s 35ms/step - loss: 0.0358 - accuracy: 0.9898 - val_loss: 0.0904 - val_accuracy: 0.9782\n",
      "Epoch 10/20\n",
      "800/800 [==============================] - 28s 35ms/step - loss: 0.0304 - accuracy: 0.9909 - val_loss: 0.0780 - val_accuracy: 0.9811\n",
      "Epoch 11/20\n",
      "800/800 [==============================] - 29s 37ms/step - loss: 0.0293 - accuracy: 0.9912 - val_loss: 0.0694 - val_accuracy: 0.9839\n",
      "Epoch 12/20\n",
      "800/800 [==============================] - 28s 35ms/step - loss: 0.0276 - accuracy: 0.9918 - val_loss: 0.0763 - val_accuracy: 0.9825\n",
      "Epoch 13/20\n",
      "800/800 [==============================] - 30s 38ms/step - loss: 0.0248 - accuracy: 0.9924 - val_loss: 0.0609 - val_accuracy: 0.9848\n",
      "Epoch 14/20\n",
      "800/800 [==============================] - 29s 36ms/step - loss: 0.0228 - accuracy: 0.9934 - val_loss: 0.1184 - val_accuracy: 0.9772\n",
      "Epoch 15/20\n",
      "800/800 [==============================] - 31s 38ms/step - loss: 0.0258 - accuracy: 0.9933 - val_loss: 0.0789 - val_accuracy: 0.9811\n",
      "Epoch 16/20\n",
      "800/800 [==============================] - 31s 38ms/step - loss: 0.0272 - accuracy: 0.9923 - val_loss: 0.0870 - val_accuracy: 0.9805\n",
      "Epoch 17/20\n",
      "800/800 [==============================] - 31s 39ms/step - loss: 0.0209 - accuracy: 0.9943 - val_loss: 0.0806 - val_accuracy: 0.9832\n",
      "Epoch 18/20\n",
      "800/800 [==============================] - 31s 38ms/step - loss: 0.0163 - accuracy: 0.9951 - val_loss: 0.0735 - val_accuracy: 0.9850\n",
      "Epoch 19/20\n",
      "800/800 [==============================] - 36s 45ms/step - loss: 0.0158 - accuracy: 0.9955 - val_loss: 0.0983 - val_accuracy: 0.9822\n",
      "Epoch 20/20\n",
      "800/800 [==============================] - 35s 43ms/step - loss: 0.0240 - accuracy: 0.9937 - val_loss: 0.0786 - val_accuracy: 0.9849\n"
     ]
    }
   ],
   "source": [
    "# Train the model\n",
    "history = model.fit(Xtrain, ytrain_cat, epochs=20,\n",
    "                    batch_size=60,\n",
    "                    validation_split = 0.2,\n",
    "                   )"
   ]
  },
  {
   "cell_type": "markdown",
   "metadata": {},
   "source": [
    "### Examine the model"
   ]
  },
  {
   "cell_type": "code",
   "execution_count": 37,
   "metadata": {
    "tags": []
   },
   "outputs": [
    {
     "data": {
      "text/plain": [
       "{'loss': [0.45749378204345703,\n",
       "  0.09622911363840103,\n",
       "  0.07178868353366852,\n",
       "  0.057028695940971375,\n",
       "  0.04810529574751854,\n",
       "  0.04143649712204933,\n",
       "  0.044439319521188736,\n",
       "  0.03480663150548935,\n",
       "  0.03580961376428604,\n",
       "  0.03039618395268917,\n",
       "  0.02931024692952633,\n",
       "  0.02758725732564926,\n",
       "  0.02476494386792183,\n",
       "  0.022825269028544426,\n",
       "  0.025788215920329094,\n",
       "  0.02715429477393627,\n",
       "  0.020873315632343292,\n",
       "  0.01632310263812542,\n",
       "  0.01580757647752762,\n",
       "  0.024011561647057533],\n",
       " 'accuracy': [0.9131249785423279,\n",
       "  0.9708333611488342,\n",
       "  0.9779583215713501,\n",
       "  0.9827291369438171,\n",
       "  0.9849583506584167,\n",
       "  0.9871458411216736,\n",
       "  0.9867708086967468,\n",
       "  0.9895416498184204,\n",
       "  0.9897500276565552,\n",
       "  0.9908541440963745,\n",
       "  0.9911875128746033,\n",
       "  0.991812527179718,\n",
       "  0.99239581823349,\n",
       "  0.9933958053588867,\n",
       "  0.9933124780654907,\n",
       "  0.9923333525657654,\n",
       "  0.9943333268165588,\n",
       "  0.9951249957084656,\n",
       "  0.9955416917800903,\n",
       "  0.9937291741371155],\n",
       " 'val_loss': [0.1329023391008377,\n",
       "  0.09569928050041199,\n",
       "  0.08467618376016617,\n",
       "  0.09615746140480042,\n",
       "  0.06846851855516434,\n",
       "  0.08610367774963379,\n",
       "  0.08097703754901886,\n",
       "  0.07203356176614761,\n",
       "  0.09037644416093826,\n",
       "  0.07802247256040573,\n",
       "  0.06936429440975189,\n",
       "  0.07628095149993896,\n",
       "  0.06085287407040596,\n",
       "  0.1183839961886406,\n",
       "  0.07891420274972916,\n",
       "  0.08704549074172974,\n",
       "  0.08057662099599838,\n",
       "  0.07348678261041641,\n",
       "  0.09831977635622025,\n",
       "  0.07859485596418381],\n",
       " 'val_accuracy': [0.9625833630561829,\n",
       "  0.9727500081062317,\n",
       "  0.9760000109672546,\n",
       "  0.972000002861023,\n",
       "  0.9818333387374878,\n",
       "  0.9775000214576721,\n",
       "  0.9777500033378601,\n",
       "  0.9797499775886536,\n",
       "  0.9781666398048401,\n",
       "  0.981083333492279,\n",
       "  0.9839166402816772,\n",
       "  0.9825000166893005,\n",
       "  0.9848333597183228,\n",
       "  0.9772499799728394,\n",
       "  0.981083333492279,\n",
       "  0.9804999828338623,\n",
       "  0.9831666946411133,\n",
       "  0.9850000143051147,\n",
       "  0.9821666479110718,\n",
       "  0.9849166870117188]}"
      ]
     },
     "execution_count": 37,
     "metadata": {},
     "output_type": "execute_result"
    }
   ],
   "source": [
    "history.history"
   ]
  },
  {
   "cell_type": "code",
   "execution_count": 38,
   "metadata": {
    "tags": []
   },
   "outputs": [
    {
     "data": {
      "text/plain": [
       "Text(0.5, 0, 'epochs')"
      ]
     },
     "execution_count": 38,
     "metadata": {},
     "output_type": "execute_result"
    },
    {
     "data": {
      "image/png": "[encoded data removed]",
      "text/plain": [
       "<Figure size 640x480 with 1 Axes>"
      ]
     },
     "metadata": {},
     "output_type": "display_data"
    }
   ],
   "source": [
    "# Plot loss and accuracy curves\n",
    "pd.DataFrame(data=history.history).plot()\n",
    "plt.grid(True)\n",
    "plt.xlabel('epochs')\n"
   ]
  }
 ],
 "metadata": {
  "hide_input": false,
  "kernelspec": {
   "display_name": "deep_learning",
   "language": "python",
   "name": "python3"
  },
  "language_info": {
   "codemirror_mode": {
    "name": "ipython",
    "version": 3
   },
   "file_extension": ".py",
   "mimetype": "text/x-python",
   "name": "python",
   "nbconvert_exporter": "python",
   "pygments_lexer": "ipython3",
   "version": "3.9.16"
  },
  "latex_envs": {
   "LaTeX_envs_menu_present": true,
   "autoclose": false,
   "autocomplete": true,
   "bibliofile": "biblio.bib",
   "cite_by": "apalike",
   "current_citInitial": 1,
   "eqLabelWithNumbers": true,
   "eqNumInitial": 1,
   "hotkeys": {
    "equation": "Ctrl-E",
    "itemize": "Ctrl-I"
   },
   "labels_anchors": false,
   "latex_user_defs": false,
   "report_style_numbering": false,
   "user_envs_cfg": false
  },
  "nbTranslate": {
   "displayLangs": [
    "*"
   ],
   "hotkey": "alt-t",
   "langInMainMenu": true,
   "sourceLang": "en",
   "targetLang": "fr",
   "useGoogleTranslate": true
  },
  "toc": {
   "base_numbering": 1,
   "nav_menu": {},
   "number_sections": true,
   "sideBar": true,
   "skip_h1_title": false,
   "title_cell": "Table of Contents",
   "title_sidebar": "Contents",
   "toc_cell": false,
   "toc_position": {},
   "toc_section_display": true,
   "toc_window_display": false
  },
  "varInspector": {
   "cols": {
    "lenName": 16,
    "lenType": 16,
    "lenVar": 40
   },
   "kernels_config": {
    "python": {
     "delete_cmd_postfix": "",
     "delete_cmd_prefix": "del ",
     "library": "var_list.py",
     "varRefreshCmd": "print(var_dic_list())"
    },
    "r": {
     "delete_cmd_postfix": ") ",
     "delete_cmd_prefix": "rm(",
     "library": "var_list.r",
     "varRefreshCmd": "cat(var_dic_list()) "
    }
   },
   "types_to_exclude": [
    "module",
    "function",
    "builtin_function_or_method",
    "instance",
    "_Feature"
   ],
   "window_display": false
  },
  "vscode": {
   "interpreter": {
    "hash": "18e79743adfce2d7b05ce6d2b9b17cbe46f030ef53fb4361fb3e6c08d6f5834a"
   }
  }
 },
 "nbformat": 4,
 "nbformat_minor": 4
}
